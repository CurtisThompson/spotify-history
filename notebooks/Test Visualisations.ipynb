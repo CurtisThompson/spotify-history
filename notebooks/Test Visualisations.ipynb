{
 "cells": [
  {
   "cell_type": "code",
   "execution_count": null,
   "id": "bce0bdcf",
   "metadata": {},
   "outputs": [],
   "source": [
    "from PIL import Image\n",
    "import requests\n",
    "\n",
    "import matplotlib.pyplot as plt\n",
    "import matplotlib.image as mpimg"
   ]
  },
  {
   "cell_type": "code",
   "execution_count": null,
   "id": "bb79e004",
   "metadata": {},
   "outputs": [],
   "source": [
    "url = 'https://i.scdn.co/image/ab6761610000e5ebe604d6f3978533dc6b98ca4a'\n",
    "im = Image.open(requests.get(url, stream=True).raw)\n",
    "plt.imshow(im)"
   ]
  },
  {
   "cell_type": "markdown",
   "id": "85c8d255",
   "metadata": {},
   "source": [
    "# Example Podium Plot"
   ]
  },
  {
   "cell_type": "code",
   "execution_count": null,
   "id": "a328e76a",
   "metadata": {},
   "outputs": [],
   "source": [
    "song_counts = [('Shake It Off', 32),\n",
    "               ('Bad Blood', 26),\n",
    "               ('Thinking Out Loud', 20),\n",
    "               ('Who Are You', 16),\n",
    "               ('Bad Habits', 15),\n",
    "               ('Dive', 14),\n",
    "               ('Supermarket Flowers', 12)]\n",
    "\n",
    "song_counts.sort(key=lambda x: -x[1])\n",
    "\n",
    "# Calculate bar heights\n",
    "bar_heights = [(song_counts[1][1] - song_counts[2][1]) / (song_counts[0][1] - song_counts[2][1]) + 1, 2, 1]\n",
    "song_counts = [song_counts[1], song_counts[0], song_counts[2]]\n",
    "\n",
    "# Create plots\n",
    "f, (a0, a1, a2) = plt.subplots(3, 1, gridspec_kw={'height_ratios': [2, 10, 1]}, figsize=(8, 11))\n",
    "\n",
    "# Display bars\n",
    "a1.bar(range(3), bar_heights)\n",
    "a1.axis('off')\n",
    "\n",
    "# Show numbers\n",
    "for i, v in enumerate(bar_heights):\n",
    "    a1.text(i, v + .2, str(song_counts[i][1]), color='black', fontweight='bold', fontsize=30, ha='center', va='center')\n",
    "\n",
    "# Display title\n",
    "a0.text(0.5, 0.5, 'Top Songs', color='black', fontweight='bold', fontsize=40, ha='center', va='center')\n",
    "a0.axis('off')\n",
    "\n",
    "# Display songs\n",
    "a2.text(0.167, 1, song_counts[1][0], color='black', fontsize=14, ha='center', va='center')\n",
    "a2.text(0.5, 1, song_counts[0][0], color='black', fontsize=14, ha='center', va='center')\n",
    "a2.text(0.83, 1, song_counts[2][0], color='black', fontsize=14, ha='center', va='center')\n",
    "a2.axis('off')\n",
    "\n",
    "a2.text(0.5, 0, 'Image created with https://github.com/CurtisThompson/spotify-history', color='black', fontsize=10, ha='center', va='center')\n",
    "\n",
    "f.set_facecolor('orange')\n",
    "\n",
    "plt.show()"
   ]
  },
  {
   "cell_type": "markdown",
   "id": "6295ccf7",
   "metadata": {},
   "source": [
    "# Example Listicle"
   ]
  },
  {
   "cell_type": "code",
   "execution_count": null,
   "id": "5d0679ed",
   "metadata": {},
   "outputs": [],
   "source": [
    "song_counts = [('Taylor Swift', 'Shake It Off', 'https://i.scdn.co/image/ab6761610000e5ebe604d6f3978533dc6b98ca4a', 32),\n",
    "               ('Ed Sheeran', 'Thinking Out Loud', 'https://i.scdn.co/image/ab6761610000e5ebe604d6f3978533dc6b98ca4a', 28),\n",
    "               ('Eminem', 'Godzilla', 'https://i.scdn.co/image/ab6761610000e5ebe604d6f3978533dc6b98ca4a', 26),\n",
    "               ('Mac Miller', '2009', 'https://i.scdn.co/image/ab6761610000e5ebe604d6f3978533dc6b98ca4a', 23),\n",
    "               ('Camila Cabello', 'Havana', 'https://i.scdn.co/image/ab6761610000e5ebe604d6f3978533dc6b98ca4a', 18)]\n",
    "\n",
    "song_counts = song_counts[:5]\n",
    "song_counts.sort(key=lambda x: x[3])\n",
    "\n",
    "# Create plots\n",
    "f, (a0, a1, a2) = plt.subplots(3, 1, gridspec_kw={'height_ratios': [2, 10, 1]}, figsize=(8, 11))\n",
    "\n",
    "# Display bars\n",
    "a1.axis('off')\n",
    "for i, x in enumerate(song_counts):\n",
    "    im = Image.open(requests.get(url, stream=True).raw)\n",
    "    inset = f.add_axes([.3, .2+(.11*i), .11, .11], label=('img' + str(i)))\n",
    "    inset.imshow(im)\n",
    "    inset.axis('off')\n",
    "    f.text(.23, .25+(.11*i), '#'+str(5-i), color='black', fontweight='bold', fontsize=16, ha='center', va='center')\n",
    "    f.text(.45, .25+(.11*i), song_counts[i][1], color='black', fontsize=12)\n",
    "\n",
    "# Display title\n",
    "a0.text(0.5, 0.5, 'Top Songs', color='black', fontweight='bold', fontsize=40, ha='center', va='center')\n",
    "a0.axis('off')\n",
    "\n",
    "# Display songs\n",
    "a2.axis('off')\n",
    "\n",
    "a2.text(0.5, 0, 'Image created with https://github.com/CurtisThompson/spotify-history', color='black', fontsize=10, ha='center', va='center')\n",
    "\n",
    "f.set_facecolor('orange')\n",
    "\n",
    "plt.show()"
   ]
  },
  {
   "cell_type": "markdown",
   "id": "a294eed6",
   "metadata": {},
   "source": [
    "# Example Summary Plot"
   ]
  },
  {
   "cell_type": "code",
   "execution_count": null,
   "id": "3b7bfd46",
   "metadata": {},
   "outputs": [],
   "source": [
    "artists = ['Taylor Swift', 'Ed Sheeran', 'Eminem', 'Loyle Carner', 'Lorde']\n",
    "songs = ['Bed', 'Good 4 U', 'Lover', 'Thinking Out Loud', 'Sweet Caroline']\n",
    "minutes = 4892\n",
    "genre = 'Super Duper Pop'\n",
    "\n",
    "# Create plots\n",
    "f, (a0, a1, a2) = plt.subplots(3, 1, gridspec_kw={'height_ratios': [2, 10, 1]}, figsize=(8, 11))\n",
    "\n",
    "# Remove axes\n",
    "a0.axis('off')\n",
    "a1.axis('off')\n",
    "a2.axis('off')\n",
    "\n",
    "# Display image\n",
    "im = Image.open(requests.get(url, stream=True).raw)\n",
    "inset = f.add_axes([.2, .6, .6, .25])\n",
    "inset.imshow(im)\n",
    "inset.axis('off')\n",
    "\n",
    "# Display artists\n",
    "f.text(.2, .55, 'Top Artists', color='purple', fontweight='bold', fontsize=16)\n",
    "for i, x in enumerate(artists):\n",
    "    f.text(.23, .35+(.04*i), '#'+str(5-i), color='black', fontweight='bold', fontsize=14, ha='center', va='center')\n",
    "    f.text(.26, .35+(.04*i), x, color='black', fontsize=12, va='center')\n",
    "\n",
    "# Display songs\n",
    "f.text(.6, .55, 'Top Songs', color='purple', fontweight='bold', fontsize=16)\n",
    "for i, x in enumerate(songs):\n",
    "    f.text(.63, .35+(.04*i), '#'+str(5-i), color='black', fontweight='bold', fontsize=14, ha='center', va='center')\n",
    "    f.text(.66, .35+(.04*i), x, color='black', fontsize=12, va='center')\n",
    "\n",
    "# Display time\n",
    "f.text(.6, .27, 'Minutes Played', color='purple', fontweight='bold', fontsize=16)\n",
    "f.text(.61, .225, str(minutes), color='black', fontweight='bold', fontsize=14)\n",
    "\n",
    "# Display genre\n",
    "f.text(.2, .27, 'Top Genre', color='purple', fontweight='bold', fontsize=16)\n",
    "f.text(.21, .225, genre, color='black', fontweight='bold', fontsize=14)\n",
    "\n",
    "# Display bottom\n",
    "a2.text(0.5, 0, 'Image created with https://github.com/CurtisThompson/spotify-history', color='black', fontsize=10, ha='center', va='center')\n",
    "\n",
    "f.set_facecolor('orange')\n",
    "\n",
    "plt.show()"
   ]
  }
 ],
 "metadata": {
  "kernelspec": {
   "display_name": "Python 3 (ipykernel)",
   "language": "python",
   "name": "python3"
  },
  "language_info": {
   "codemirror_mode": {
    "name": "ipython",
    "version": 3
   },
   "file_extension": ".py",
   "mimetype": "text/x-python",
   "name": "python",
   "nbconvert_exporter": "python",
   "pygments_lexer": "ipython3",
   "version": "3.7.6"
  }
 },
 "nbformat": 4,
 "nbformat_minor": 5
}
