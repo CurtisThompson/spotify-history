{
 "cells": [
  {
   "cell_type": "code",
   "execution_count": 1,
   "id": "dea5d840",
   "metadata": {},
   "outputs": [],
   "source": [
    "import time\n",
    "from datetime import datetime\n",
    "\n",
    "import numpy as np\n",
    "import pandas as pd\n",
    "import requests\n",
    "import json"
   ]
  },
  {
   "cell_type": "code",
   "execution_count": 2,
   "id": "b39400cd",
   "metadata": {},
   "outputs": [],
   "source": [
    "START_2021 = 1609459200"
   ]
  },
  {
   "cell_type": "code",
   "execution_count": 3,
   "id": "ec6965b8",
   "metadata": {},
   "outputs": [],
   "source": [
    "def datetime_to_unix(dt):\n",
    "    d = datetime.strptime(dt, '%Y-%m-%dT%H:%M:%S.%fZ')\n",
    "    return int(time.mktime(d.timetuple()))"
   ]
  },
  {
   "cell_type": "code",
   "execution_count": 12,
   "id": "e8798188",
   "metadata": {},
   "outputs": [],
   "source": [
    "API_TOKEN = 'BQCEGpPK4qhilj657AI_9BK25G6pvPuMiLyTACmEUTXM-1RLqhUVMuAI9SR9nNIcelDM3yDwrYduEpjt03-cjCJ5s_daz-G3T4H5i9tProkh66fuZkl1Oc0-jCVqnjJFcAW0vUiY0f6cSA0dNyIYjYsxRXjnPupBZxap5bKyoA'"
   ]
  },
  {
   "cell_type": "code",
   "execution_count": 33,
   "id": "709e5889",
   "metadata": {},
   "outputs": [],
   "source": [
    "def get_recent_songs(limit=50, before=None, token=API_TOKEN, url=None):\n",
    "    headers = {\n",
    "        'Authorization': 'Bearer {token}'.format(token=token)\n",
    "    }\n",
    "        \n",
    "    if url == None:\n",
    "        url = 'https://api.spotify.com/v1/me/player/recently-played'\n",
    "        data = {\n",
    "            'limit' : limit\n",
    "        }\n",
    "        if before != None:\n",
    "            data['before'] = before\n",
    "\n",
    "        response = requests.get(url, headers=headers, params=data)\n",
    "    else:\n",
    "        response = requests.get(url, headers=headers)\n",
    "    \n",
    "    response = json.loads(response.content)\n",
    "    return response"
   ]
  },
  {
   "cell_type": "code",
   "execution_count": 14,
   "id": "b4910897",
   "metadata": {},
   "outputs": [],
   "source": [
    "response = get_recent_songs(limit=50)"
   ]
  },
  {
   "cell_type": "code",
   "execution_count": 16,
   "id": "92e19d99",
   "metadata": {},
   "outputs": [
    {
     "data": {
      "text/plain": [
       "{'after': '1625221076128', 'before': '1625069915350'}"
      ]
     },
     "execution_count": 16,
     "metadata": {},
     "output_type": "execute_result"
    }
   ],
   "source": [
    "response['cursors']"
   ]
  },
  {
   "cell_type": "code",
   "execution_count": 17,
   "id": "e1074b73",
   "metadata": {},
   "outputs": [],
   "source": [
    "def response_items_to_df(response_items):\n",
    "    ids = [x['track']['id'] for x in response_items]\n",
    "    played_ats = [x['played_at'] for x in response_items]\n",
    "    artists = [x['track']['artists'] for x in response_items]\n",
    "    duration_mss = [x['track']['duration_ms'] for x in response_items]\n",
    "    names = [x['track']['name'] for x in response_items]\n",
    "\n",
    "    df = pd.DataFrame(np.array([ids, played_ats, artists, duration_mss, names], dtype=object).T, columns=['id', 'played_at', 'artists', 'duration_ms', 'name'])\n",
    "\n",
    "    df['played_at'] = df.played_at.apply(lambda x: datetime_to_unix(x))\n",
    "    \n",
    "    return df"
   ]
  },
  {
   "cell_type": "code",
   "execution_count": 34,
   "id": "961b2bc3",
   "metadata": {},
   "outputs": [
    {
     "name": "stdout",
     "output_type": "stream",
     "text": [
      "{'after': '1625221076128', 'before': '1625069915350'}\n",
      "https://api.spotify.com/v1/me/player/recently-played?before=1625069915350&limit=50\n"
     ]
    },
    {
     "data": {
      "text/html": [
       "<div>\n",
       "<style scoped>\n",
       "    .dataframe tbody tr th:only-of-type {\n",
       "        vertical-align: middle;\n",
       "    }\n",
       "\n",
       "    .dataframe tbody tr th {\n",
       "        vertical-align: top;\n",
       "    }\n",
       "\n",
       "    .dataframe thead th {\n",
       "        text-align: right;\n",
       "    }\n",
       "</style>\n",
       "<table border=\"1\" class=\"dataframe\">\n",
       "  <thead>\n",
       "    <tr style=\"text-align: right;\">\n",
       "      <th></th>\n",
       "      <th>id</th>\n",
       "      <th>played_at</th>\n",
       "      <th>artists</th>\n",
       "      <th>duration_ms</th>\n",
       "      <th>name</th>\n",
       "    </tr>\n",
       "  </thead>\n",
       "  <tbody>\n",
       "  </tbody>\n",
       "</table>\n",
       "</div>"
      ],
      "text/plain": [
       "Empty DataFrame\n",
       "Columns: [id, played_at, artists, duration_ms, name]\n",
       "Index: []"
      ]
     },
     "metadata": {},
     "output_type": "display_data"
    }
   ],
   "source": [
    "res = get_recent_songs(limit=50, url='https://api.spotify.com/v1/me/player/recently-played?before=1625069915350&limit=50')\n",
    "df = response_items_to_df(res['items'])\n",
    "print(response['cursors'])\n",
    "print(response['next'])\n",
    "display(df)"
   ]
  },
  {
   "cell_type": "code",
   "execution_count": 119,
   "id": "d808d3ac",
   "metadata": {},
   "outputs": [],
   "source": [
    "dfs = []\n",
    "earliest_time = None\n",
    "before_cursor = None\n",
    "\n",
    "while (earliest_time == None) or (earliest_time > START_2021):\n",
    "    response = get_recent_songs(limit=50, before=before_cursor)\n",
    "    latest_df = response_items_to_df(response['items'])\n",
    "    dfs.append(latest_df)\n",
    "    earliest_time = latest_df.played_at.min()\n",
    "    \n",
    "    if response['cursors'] != None:\n",
    "        before_cursor = int(response['cursors']['after']) - 1\n",
    "    else:\n",
    "        break\n",
    "\n",
    "df = pd.concat(dfs)"
   ]
  },
  {
   "cell_type": "code",
   "execution_count": 120,
   "id": "ce99d7c5",
   "metadata": {},
   "outputs": [
    {
     "data": {
      "text/html": [
       "<div>\n",
       "<style scoped>\n",
       "    .dataframe tbody tr th:only-of-type {\n",
       "        vertical-align: middle;\n",
       "    }\n",
       "\n",
       "    .dataframe tbody tr th {\n",
       "        vertical-align: top;\n",
       "    }\n",
       "\n",
       "    .dataframe thead th {\n",
       "        text-align: right;\n",
       "    }\n",
       "</style>\n",
       "<table border=\"1\" class=\"dataframe\">\n",
       "  <thead>\n",
       "    <tr style=\"text-align: right;\">\n",
       "      <th></th>\n",
       "      <th>id</th>\n",
       "      <th>played_at</th>\n",
       "      <th>artists</th>\n",
       "      <th>duration_ms</th>\n",
       "      <th>name</th>\n",
       "    </tr>\n",
       "  </thead>\n",
       "  <tbody>\n",
       "    <tr>\n",
       "      <th>0</th>\n",
       "      <td>1aU1wpYBSpP0M6IiihY5Ue</td>\n",
       "      <td>1625217220</td>\n",
       "      <td>[{'external_urls': {'spotify': 'https://open.s...</td>\n",
       "      <td>254466</td>\n",
       "      <td>Renegade (feat. Taylor Swift)</td>\n",
       "    </tr>\n",
       "    <tr>\n",
       "      <th>1</th>\n",
       "      <td>1aU1wpYBSpP0M6IiihY5Ue</td>\n",
       "      <td>1625216965</td>\n",
       "      <td>[{'external_urls': {'spotify': 'https://open.s...</td>\n",
       "      <td>254466</td>\n",
       "      <td>Renegade (feat. Taylor Swift)</td>\n",
       "    </tr>\n",
       "    <tr>\n",
       "      <th>2</th>\n",
       "      <td>1aU1wpYBSpP0M6IiihY5Ue</td>\n",
       "      <td>1625216638</td>\n",
       "      <td>[{'external_urls': {'spotify': 'https://open.s...</td>\n",
       "      <td>254466</td>\n",
       "      <td>Renegade (feat. Taylor Swift)</td>\n",
       "    </tr>\n",
       "    <tr>\n",
       "      <th>3</th>\n",
       "      <td>1aU1wpYBSpP0M6IiihY5Ue</td>\n",
       "      <td>1625216383</td>\n",
       "      <td>[{'external_urls': {'spotify': 'https://open.s...</td>\n",
       "      <td>254466</td>\n",
       "      <td>Renegade (feat. Taylor Swift)</td>\n",
       "    </tr>\n",
       "    <tr>\n",
       "      <th>4</th>\n",
       "      <td>1aU1wpYBSpP0M6IiihY5Ue</td>\n",
       "      <td>1625216128</td>\n",
       "      <td>[{'external_urls': {'spotify': 'https://open.s...</td>\n",
       "      <td>254466</td>\n",
       "      <td>Renegade (feat. Taylor Swift)</td>\n",
       "    </tr>\n",
       "    <tr>\n",
       "      <th>...</th>\n",
       "      <td>...</td>\n",
       "      <td>...</td>\n",
       "      <td>...</td>\n",
       "      <td>...</td>\n",
       "      <td>...</td>\n",
       "    </tr>\n",
       "    <tr>\n",
       "      <th>1</th>\n",
       "      <td>0cqRj7pUJDkTCEsJkx8snD</td>\n",
       "      <td>1625066315</td>\n",
       "      <td>[{'external_urls': {'spotify': 'https://open.s...</td>\n",
       "      <td>219200</td>\n",
       "      <td>Shake It Off</td>\n",
       "    </tr>\n",
       "    <tr>\n",
       "      <th>2</th>\n",
       "      <td>55n9yjI6qqXh5F2mYvUc2y</td>\n",
       "      <td>1625066095</td>\n",
       "      <td>[{'external_urls': {'spotify': 'https://open.s...</td>\n",
       "      <td>247160</td>\n",
       "      <td>I Don’t Wanna Live Forever (Fifty Shades Darker)</td>\n",
       "    </tr>\n",
       "    <tr>\n",
       "      <th>0</th>\n",
       "      <td>0cqRj7pUJDkTCEsJkx8snD</td>\n",
       "      <td>1625066315</td>\n",
       "      <td>[{'external_urls': {'spotify': 'https://open.s...</td>\n",
       "      <td>219200</td>\n",
       "      <td>Shake It Off</td>\n",
       "    </tr>\n",
       "    <tr>\n",
       "      <th>1</th>\n",
       "      <td>55n9yjI6qqXh5F2mYvUc2y</td>\n",
       "      <td>1625066095</td>\n",
       "      <td>[{'external_urls': {'spotify': 'https://open.s...</td>\n",
       "      <td>247160</td>\n",
       "      <td>I Don’t Wanna Live Forever (Fifty Shades Darker)</td>\n",
       "    </tr>\n",
       "    <tr>\n",
       "      <th>0</th>\n",
       "      <td>55n9yjI6qqXh5F2mYvUc2y</td>\n",
       "      <td>1625066095</td>\n",
       "      <td>[{'external_urls': {'spotify': 'https://open.s...</td>\n",
       "      <td>247160</td>\n",
       "      <td>I Don’t Wanna Live Forever (Fifty Shades Darker)</td>\n",
       "    </tr>\n",
       "  </tbody>\n",
       "</table>\n",
       "<p>1275 rows × 5 columns</p>\n",
       "</div>"
      ],
      "text/plain": [
       "                        id   played_at  \\\n",
       "0   1aU1wpYBSpP0M6IiihY5Ue  1625217220   \n",
       "1   1aU1wpYBSpP0M6IiihY5Ue  1625216965   \n",
       "2   1aU1wpYBSpP0M6IiihY5Ue  1625216638   \n",
       "3   1aU1wpYBSpP0M6IiihY5Ue  1625216383   \n",
       "4   1aU1wpYBSpP0M6IiihY5Ue  1625216128   \n",
       "..                     ...         ...   \n",
       "1   0cqRj7pUJDkTCEsJkx8snD  1625066315   \n",
       "2   55n9yjI6qqXh5F2mYvUc2y  1625066095   \n",
       "0   0cqRj7pUJDkTCEsJkx8snD  1625066315   \n",
       "1   55n9yjI6qqXh5F2mYvUc2y  1625066095   \n",
       "0   55n9yjI6qqXh5F2mYvUc2y  1625066095   \n",
       "\n",
       "                                              artists duration_ms  \\\n",
       "0   [{'external_urls': {'spotify': 'https://open.s...      254466   \n",
       "1   [{'external_urls': {'spotify': 'https://open.s...      254466   \n",
       "2   [{'external_urls': {'spotify': 'https://open.s...      254466   \n",
       "3   [{'external_urls': {'spotify': 'https://open.s...      254466   \n",
       "4   [{'external_urls': {'spotify': 'https://open.s...      254466   \n",
       "..                                                ...         ...   \n",
       "1   [{'external_urls': {'spotify': 'https://open.s...      219200   \n",
       "2   [{'external_urls': {'spotify': 'https://open.s...      247160   \n",
       "0   [{'external_urls': {'spotify': 'https://open.s...      219200   \n",
       "1   [{'external_urls': {'spotify': 'https://open.s...      247160   \n",
       "0   [{'external_urls': {'spotify': 'https://open.s...      247160   \n",
       "\n",
       "                                                name  \n",
       "0                      Renegade (feat. Taylor Swift)  \n",
       "1                      Renegade (feat. Taylor Swift)  \n",
       "2                      Renegade (feat. Taylor Swift)  \n",
       "3                      Renegade (feat. Taylor Swift)  \n",
       "4                      Renegade (feat. Taylor Swift)  \n",
       "..                                               ...  \n",
       "1                                       Shake It Off  \n",
       "2   I Don’t Wanna Live Forever (Fifty Shades Darker)  \n",
       "0                                       Shake It Off  \n",
       "1   I Don’t Wanna Live Forever (Fifty Shades Darker)  \n",
       "0   I Don’t Wanna Live Forever (Fifty Shades Darker)  \n",
       "\n",
       "[1275 rows x 5 columns]"
      ]
     },
     "execution_count": 120,
     "metadata": {},
     "output_type": "execute_result"
    }
   ],
   "source": [
    "df"
   ]
  },
  {
   "cell_type": "code",
   "execution_count": null,
   "id": "3a59a708",
   "metadata": {},
   "outputs": [],
   "source": []
  }
 ],
 "metadata": {
  "kernelspec": {
   "display_name": "Python 3 (ipykernel)",
   "language": "python",
   "name": "python3"
  },
  "language_info": {
   "codemirror_mode": {
    "name": "ipython",
    "version": 3
   },
   "file_extension": ".py",
   "mimetype": "text/x-python",
   "name": "python",
   "nbconvert_exporter": "python",
   "pygments_lexer": "ipython3",
   "version": "3.7.6"
  }
 },
 "nbformat": 4,
 "nbformat_minor": 5
}
