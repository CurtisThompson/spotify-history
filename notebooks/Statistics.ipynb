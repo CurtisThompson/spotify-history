{
 "cells": [
  {
   "cell_type": "code",
   "execution_count": null,
   "metadata": {},
   "outputs": [],
   "source": [
    "import numpy as np\n",
    "import pandas as pd\n",
    "import json\n",
    "\n",
    "import spotipy\n",
    "from spotipy.oauth2 import SpotifyClientCredentials"
   ]
  },
  {
   "cell_type": "markdown",
   "metadata": {},
   "source": [
    "Data is read in and filtered for a specific year. If you have downloaded your own streaming history then change the json file path."
   ]
  },
  {
   "cell_type": "code",
   "execution_count": null,
   "metadata": {},
   "outputs": [],
   "source": [
    "data = pd.read_json('../data/ExampleData/StreamingHistory0.json')\n",
    "data = data[data.endTime >= '2021-01-01']\n",
    "data"
   ]
  },
  {
   "cell_type": "markdown",
   "metadata": {},
   "source": [
    "# Can We Get A List Of Songs\n",
    "A unique list of songs (artist name and track name)."
   ]
  },
  {
   "cell_type": "code",
   "execution_count": null,
   "metadata": {},
   "outputs": [],
   "source": [
    "all_songs = data[['artistName', 'trackName']].drop_duplicates().reset_index(drop=True)\n",
    "all_songs"
   ]
  },
  {
   "cell_type": "markdown",
   "metadata": {},
   "source": [
    "# Statistics Without API"
   ]
  },
  {
   "cell_type": "markdown",
   "metadata": {},
   "source": [
    "## Which Artists Have You Listened To The Most?\n",
    "Orders artists by the number of plays (regardless of play length). Artists are only counted if they are the main artist on the track."
   ]
  },
  {
   "cell_type": "code",
   "execution_count": null,
   "metadata": {},
   "outputs": [],
   "source": [
    "data.groupby('artistName').size().to_frame().reset_index().rename({0 : 'count'}, axis=1).sort_values(by='count', ascending=False).head(20)"
   ]
  },
  {
   "cell_type": "markdown",
   "metadata": {},
   "source": [
    "## Which Songs Have You Listened To The Most?\n",
    "Orders songs by the number of plays (regardless of play length)."
   ]
  },
  {
   "cell_type": "code",
   "execution_count": null,
   "metadata": {},
   "outputs": [],
   "source": [
    "data.groupby(['artistName', 'trackName']).size().to_frame().reset_index().rename({0 : 'count'}, axis=1).sort_values(by='count', ascending=False).head(20)"
   ]
  },
  {
   "cell_type": "markdown",
   "metadata": {},
   "source": [
    "## How Many Total Songs Have You Listened To?\n",
    "Counts the number of songs played overall (regardless of play length)."
   ]
  },
  {
   "cell_type": "code",
   "execution_count": null,
   "metadata": {},
   "outputs": [],
   "source": [
    "data.shape[0]"
   ]
  },
  {
   "cell_type": "markdown",
   "metadata": {},
   "source": [
    "## How Many Unique Songs Have You Listened To?\n",
    "Counts the number of different songs played overall (regardless of play length)."
   ]
  },
  {
   "cell_type": "code",
   "execution_count": null,
   "metadata": {},
   "outputs": [],
   "source": [
    "len(list(data.groupby(['artistName', 'trackName']).groups.keys()))"
   ]
  },
  {
   "cell_type": "markdown",
   "metadata": {},
   "source": [
    "## How Many Unique Artists Have You Listened To?\n",
    "Counts the number of different artists played overall, where artists are only counted if they were a main artist on at least 1 track."
   ]
  },
  {
   "cell_type": "code",
   "execution_count": null,
   "metadata": {},
   "outputs": [],
   "source": [
    "len(list(data.groupby(['artistName']).groups.keys()))"
   ]
  },
  {
   "cell_type": "markdown",
   "metadata": {},
   "source": [
    "## How Long Have You Been Listening To Songs?\n",
    "Sums the amount of time listening to tracks overall, and outputs that as a single string of days, hours, minutes, and seconds."
   ]
  },
  {
   "cell_type": "code",
   "execution_count": null,
   "metadata": {},
   "outputs": [],
   "source": [
    "total_ms = data.msPlayed.sum()\n",
    "\n",
    "total_s = total_ms // 1000\n",
    "total_ms -= total_s * 1000\n",
    "\n",
    "total_m = total_s // 60\n",
    "total_s -= total_m * 60\n",
    "\n",
    "total_h = total_m // 60\n",
    "total_m -= total_h * 60\n",
    "\n",
    "total_d = total_h // 24\n",
    "total_h -= total_d * 24\n",
    "\n",
    "time_string = ''\n",
    "if total_d > 0:\n",
    "    time_string += str(total_d) + ' Days, '\n",
    "if total_h > 0:\n",
    "    time_string += str(total_h) + ' Hours, '\n",
    "if total_m > 0:\n",
    "    time_string += str(total_m) + ' Minutes, '\n",
    "if total_s > 0:\n",
    "    time_string += str(total_s) + ' Seconds, '\n",
    "time_string = time_string[:-2]\n",
    "\n",
    "print(time_string)"
   ]
  },
  {
   "cell_type": "markdown",
   "metadata": {},
   "source": [
    "## Which Days Did You Listen To Songs The Most?\n",
    "Orders days of the year by amount of time listening to tracks."
   ]
  },
  {
   "cell_type": "code",
   "execution_count": null,
   "metadata": {},
   "outputs": [],
   "source": [
    "data_days = data.copy()\n",
    "data_days['day'] = data_days.endTime.apply(lambda x: x[:10])\n",
    "data_days.groupby('day').msPlayed.sum().to_frame().reset_index().sort_values('msPlayed', ascending=False).head(10)"
   ]
  },
  {
   "cell_type": "markdown",
   "metadata": {},
   "source": [
    "# Get Songs Through API\n",
    "Obtain the Spotify developer keys from the key file, which allows use of the API."
   ]
  },
  {
   "cell_type": "code",
   "execution_count": null,
   "metadata": {},
   "outputs": [],
   "source": [
    "def get_dev_keys():\n",
    "    with open('../data/api_keys/api_dev_keys.txt', 'r') as f:\n",
    "        keys = f.read().split('\\n')\n",
    "    return keys[0], keys[1]"
   ]
  },
  {
   "cell_type": "code",
   "execution_count": null,
   "metadata": {},
   "outputs": [],
   "source": [
    "SPOTIPY_CLIENT_ID, SPOTIPY_CLIENT_SECRET = get_dev_keys()"
   ]
  },
  {
   "cell_type": "code",
   "execution_count": null,
   "metadata": {},
   "outputs": [],
   "source": [
    "client_credentials_manager = SpotifyClientCredentials(client_id=SPOTIPY_CLIENT_ID, client_secret=SPOTIPY_CLIENT_SECRET)\n",
    "sp = spotipy.Spotify(client_credentials_manager=client_credentials_manager)"
   ]
  },
  {
   "cell_type": "markdown",
   "metadata": {},
   "source": [
    "## Get Artists For Each Song\n",
    "The method below will attempt to return the artists' details for a given track (where a track is a main artist name and track name). All main and featured artists will be returned."
   ]
  },
  {
   "cell_type": "code",
   "execution_count": null,
   "metadata": {},
   "outputs": [],
   "source": [
    "def get_song_artists_through_api(artist, track):\n",
    "    search_query = artist + ' ' + track\n",
    "    song_details = sp.search(search_query, limit=1)\n",
    "    song_artists = song_details['tracks']['items'][0]['artists']\n",
    "    return song_artists"
   ]
  },
  {
   "cell_type": "markdown",
   "metadata": {},
   "source": [
    "Each song is then iterated through to get a DataFrame of tuples containing main artist name, track name, and artist URI for each artist in each track. A set of artist URIs is also stored in the artist_uris variable."
   ]
  },
  {
   "cell_type": "code",
   "execution_count": null,
   "metadata": {},
   "outputs": [],
   "source": [
    "all_songs_with_artists = []\n",
    "\n",
    "for index, row in all_songs.iterrows():\n",
    "    try:\n",
    "        # Get song artists\n",
    "        song_artists = get_song_artists_through_api(row.artistName, row.trackName)\n",
    "\n",
    "        # Store artists for song\n",
    "        uris = [artist['uri'] for artist in song_artists]\n",
    "        for uri in uris:\n",
    "            all_songs_with_artists.append([row.artistName, row.trackName, uri])\n",
    "    except:\n",
    "        if ' - ' in row.trackName:\n",
    "            try:\n",
    "                # Get song artists\n",
    "                song_artists = get_song_artists_through_api(row.artistName, ' - '.join(row.trackName.split(' - ')[:-1]))\n",
    "\n",
    "                # Store artists for song\n",
    "                uris = [artist['uri'] for artist in song_artists]\n",
    "                for uri in uris:\n",
    "                    all_songs_with_artists.append([row.artistName, row.trackName, uri])\n",
    "            except:\n",
    "                print(index, row.artistName, row.trackName)\n",
    "        else:\n",
    "            print(index, row.artistName, row.trackName)"
   ]
  },
  {
   "cell_type": "code",
   "execution_count": null,
   "metadata": {},
   "outputs": [],
   "source": [
    "all_songs_with_artists = pd.DataFrame(all_songs_with_artists, columns=['artistName', 'trackName', 'artistURI'])"
   ]
  },
  {
   "cell_type": "code",
   "execution_count": null,
   "metadata": {},
   "outputs": [],
   "source": [
    "artist_uris = list(all_songs_with_artists.artistURI.unique())"
   ]
  },
  {
   "cell_type": "markdown",
   "metadata": {},
   "source": [
    "## Get Artist Details\n",
    "The Spotify artist details for each artist previously found is now obtained through the Spotify API. Artist info is retrieved in groups of 50, which is the maximum size through the API."
   ]
  },
  {
   "cell_type": "code",
   "execution_count": null,
   "metadata": {},
   "outputs": [],
   "source": [
    "artist_search = {}\n",
    "for i in range(0, len(artist_uris), 50):\n",
    "    search_results = sp.artists(artist_uris[i:i + 50])\n",
    "    for result in search_results['artists']:\n",
    "        artist_search[result['uri']] = result"
   ]
  },
  {
   "cell_type": "markdown",
   "metadata": {},
   "source": [
    "# Statistics With API"
   ]
  },
  {
   "cell_type": "markdown",
   "metadata": {},
   "source": [
    "## Which Artists Have You Listened To The Most?"
   ]
  },
  {
   "cell_type": "markdown",
   "metadata": {},
   "source": [
    "The method below will check if an artist appears in a given song."
   ]
  },
  {
   "cell_type": "code",
   "execution_count": null,
   "metadata": {},
   "outputs": [],
   "source": [
    "def check_uri_for_song(uri, trackName, artistName):\n",
    "    song_filter = (all_songs_with_artists.artistName==artistName) & (all_songs_with_artists.trackName==trackName)\n",
    "    return uri in all_songs_with_artists[song_filter].artistURI.unique()"
   ]
  },
  {
   "cell_type": "markdown",
   "metadata": {},
   "source": [
    "Using our data from the Spotify API, we can now check the total amount of time listening to each artist (including tracks where the artist is only featured on)."
   ]
  },
  {
   "cell_type": "code",
   "execution_count": null,
   "metadata": {},
   "outputs": [],
   "source": [
    "# Get play time for each artist\n",
    "df_artists = data[['trackName', 'artistName', 'msPlayed']]\n",
    "artist_play_times = []\n",
    "for uri in list(artist_search.keys()):\n",
    "    artist_play_time = df_artists[df_artists.apply(lambda x: check_uri_for_song(uri, x.trackName, x.artistName), axis=1)].msPlayed.sum()\n",
    "    artist_play_times.append((uri, artist_play_time))\n",
    "\n",
    "# Get top 5 artists\n",
    "top_artists = pd.DataFrame(artist_play_times, columns=['URI', 'Ms'])\n",
    "top_artists['Name'] = top_artists.URI.apply(lambda x: artist_search[x]['name'])\n",
    "top_artists['Minutes'] = top_artists.Ms / 60000\n",
    "top_artists"
   ]
  },
  {
   "cell_type": "markdown",
   "metadata": {},
   "source": [
    "The top 20 artists are outputted below."
   ]
  },
  {
   "cell_type": "code",
   "execution_count": null,
   "metadata": {},
   "outputs": [],
   "source": [
    "top_artists[['Name', 'Minutes']].sort_values('Minutes', ascending=False).head(20)"
   ]
  },
  {
   "cell_type": "markdown",
   "metadata": {},
   "source": [
    "## Which Genres Have You Listened To The Most?"
   ]
  },
  {
   "cell_type": "markdown",
   "metadata": {},
   "source": [
    "We can also find the most listened to genres. A song's genre is based upon the genres of the main artist, as Spotify does not store genres for each individual song.\n",
    "\n",
    "Firstly, we will go through each artist to get a set of genres."
   ]
  },
  {
   "cell_type": "code",
   "execution_count": null,
   "metadata": {},
   "outputs": [],
   "source": [
    "genres = []\n",
    "for artist in artist_search:\n",
    "    genres.extend(artist_search[artist]['genres'])\n",
    "genres = list(set(genres))"
   ]
  },
  {
   "cell_type": "markdown",
   "metadata": {},
   "source": [
    "We can then go through each song to get the play times for each genre."
   ]
  },
  {
   "cell_type": "code",
   "execution_count": null,
   "metadata": {},
   "outputs": [],
   "source": [
    "# Set up genre time dict\n",
    "genre_times = {}\n",
    "for genre in genres:\n",
    "    genre_times[genre] = 0\n",
    "\n",
    "for index, row in data.iterrows():\n",
    "    # Get main artist\n",
    "    song_data = all_songs_with_artists[(all_songs_with_artists.trackName==row.trackName) & (all_songs_with_artists.artistName==row.artistName)]\n",
    "    song_data = song_data.copy().reset_index()\n",
    "    try:\n",
    "        main_artist = song_data.iloc[0].artistURI\n",
    "    except:\n",
    "        main_artist = None\n",
    "    \n",
    "    # Add genres of main artist to counter\n",
    "    if main_artist != None:\n",
    "        artist_genres = artist_search[main_artist]['genres']\n",
    "        for genre in artist_genres:\n",
    "            genre_times[genre] += row.msPlayed"
   ]
  },
  {
   "cell_type": "markdown",
   "metadata": {},
   "source": [
    "The top 20 genres are outputted below."
   ]
  },
  {
   "cell_type": "code",
   "execution_count": null,
   "metadata": {},
   "outputs": [],
   "source": [
    "df_genre = pd.DataFrame(list(genre_times.items()), columns=['Genre', 'Ms'])\n",
    "df_genre['Minutes'] = df_genre.Ms / 60000\n",
    "df_genre[['Genre', 'Minutes']].sort_values('Minutes', ascending=False).head(20)"
   ]
  }
 ],
 "metadata": {
  "kernelspec": {
   "display_name": "Python 3",
   "language": "python",
   "name": "python3"
  },
  "language_info": {
   "codemirror_mode": {
    "name": "ipython",
    "version": 3
   },
   "file_extension": ".py",
   "mimetype": "text/x-python",
   "name": "python",
   "nbconvert_exporter": "python",
   "pygments_lexer": "ipython3",
   "version": "3.7.6"
  }
 },
 "nbformat": 4,
 "nbformat_minor": 5
}
