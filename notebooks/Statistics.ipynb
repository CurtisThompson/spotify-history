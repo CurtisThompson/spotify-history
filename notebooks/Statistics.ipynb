{
 "cells": [
  {
   "cell_type": "code",
   "execution_count": null,
   "id": "afab7518",
   "metadata": {},
   "outputs": [],
   "source": [
    "import numpy as np\n",
    "import pandas as pd\n",
    "import json\n",
    "\n",
    "import spotipy\n",
    "from spotipy.oauth2 import SpotifyClientCredentials"
   ]
  },
  {
   "cell_type": "code",
   "execution_count": null,
   "id": "e9beccbe",
   "metadata": {},
   "outputs": [],
   "source": [
    "data = pd.read_json('../data/ExampleData/StreamingHistory0.json')\n",
    "data = data[data.endTime >= '2021-01-01']\n",
    "data"
   ]
  },
  {
   "cell_type": "markdown",
   "id": "f205708c",
   "metadata": {},
   "source": [
    "# Can We Get A List Of Songs"
   ]
  },
  {
   "cell_type": "code",
   "execution_count": null,
   "id": "10de0cde",
   "metadata": {},
   "outputs": [],
   "source": [
    "all_songs = data[['artistName', 'trackName']].drop_duplicates().reset_index(drop=True)\n",
    "all_songs"
   ]
  },
  {
   "cell_type": "markdown",
   "id": "88226d9d",
   "metadata": {},
   "source": [
    "# Statistics Without API"
   ]
  },
  {
   "cell_type": "markdown",
   "id": "97b2a99e",
   "metadata": {},
   "source": [
    "## Which Artists Have You Listened To The Most?"
   ]
  },
  {
   "cell_type": "code",
   "execution_count": null,
   "id": "1ae29aa7",
   "metadata": {},
   "outputs": [],
   "source": [
    "data.groupby('artistName').size().to_frame().reset_index().rename({0 : 'count'}, axis=1).sort_values(by='count', ascending=False).head(20)"
   ]
  },
  {
   "cell_type": "markdown",
   "id": "ae5712c7",
   "metadata": {},
   "source": [
    "## Which Songs Have You Listened To The Most?"
   ]
  },
  {
   "cell_type": "code",
   "execution_count": null,
   "id": "cd9285e2",
   "metadata": {},
   "outputs": [],
   "source": [
    "data.groupby(['artistName', 'trackName']).size().to_frame().reset_index().rename({0 : 'count'}, axis=1).sort_values(by='count', ascending=False).head(20)"
   ]
  },
  {
   "cell_type": "markdown",
   "id": "41e67b6e",
   "metadata": {},
   "source": [
    "## How Many Total Songs Have You Listened To?"
   ]
  },
  {
   "cell_type": "code",
   "execution_count": null,
   "id": "10b4cc1f",
   "metadata": {},
   "outputs": [],
   "source": [
    "data.shape[0]"
   ]
  },
  {
   "cell_type": "markdown",
   "id": "04b0a242",
   "metadata": {},
   "source": [
    "## How Many Unique Songs Have You Listened To?"
   ]
  },
  {
   "cell_type": "code",
   "execution_count": null,
   "id": "0fae79be",
   "metadata": {},
   "outputs": [],
   "source": [
    "len(list(data.groupby(['artistName', 'trackName']).groups.keys()))"
   ]
  },
  {
   "cell_type": "markdown",
   "id": "58c3487f",
   "metadata": {},
   "source": [
    "## How Many Unique Artists Have You Listened To?"
   ]
  },
  {
   "cell_type": "code",
   "execution_count": null,
   "id": "412fa2e0",
   "metadata": {},
   "outputs": [],
   "source": [
    "len(list(data.groupby(['artistName']).groups.keys()))"
   ]
  },
  {
   "cell_type": "markdown",
   "id": "c150fc3f",
   "metadata": {},
   "source": [
    "## How Long Have You Been Listening To Songs?"
   ]
  },
  {
   "cell_type": "code",
   "execution_count": null,
   "id": "60f4f1ce",
   "metadata": {},
   "outputs": [],
   "source": [
    "total_ms = data.msPlayed.sum()\n",
    "\n",
    "total_s = total_ms // 1000\n",
    "total_ms -= total_s * 1000\n",
    "\n",
    "total_m = total_s // 60\n",
    "total_s -= total_m * 60\n",
    "\n",
    "total_h = total_m // 60\n",
    "total_m -= total_h * 60\n",
    "\n",
    "total_d = total_h // 24\n",
    "total_h -= total_d * 24\n",
    "\n",
    "time_string = ''\n",
    "if total_d > 0:\n",
    "    time_string += str(total_d) + ' Days, '\n",
    "if total_h > 0:\n",
    "    time_string += str(total_h) + ' Hours, '\n",
    "if total_m > 0:\n",
    "    time_string += str(total_m) + ' Minutes, '\n",
    "if total_s > 0:\n",
    "    time_string += str(total_s) + ' Seconds, '\n",
    "time_string = time_string[:-2]\n",
    "\n",
    "print(time_string)"
   ]
  },
  {
   "cell_type": "markdown",
   "id": "194dd60d",
   "metadata": {},
   "source": [
    "## Which Days Did You Listen To Songs The Most?"
   ]
  },
  {
   "cell_type": "code",
   "execution_count": null,
   "id": "4a228d44",
   "metadata": {},
   "outputs": [],
   "source": [
    "data_days = data.copy()\n",
    "data_days['day'] = data_days.endTime.apply(lambda x: x[:10])\n",
    "data_days.groupby('day').msPlayed.sum().to_frame().reset_index().sort_values('msPlayed', ascending=False).head(10)"
   ]
  },
  {
   "cell_type": "markdown",
   "id": "37559832",
   "metadata": {},
   "source": [
    "# Get Songs Through API"
   ]
  },
  {
   "cell_type": "code",
   "execution_count": null,
   "id": "1009470d",
   "metadata": {},
   "outputs": [],
   "source": [
    "def get_dev_keys():\n",
    "    with open('../data/api_keys/api_dev_keys.txt', 'r') as f:\n",
    "        keys = f.read().split('\\n')\n",
    "    return keys[0], keys[1]"
   ]
  },
  {
   "cell_type": "code",
   "execution_count": null,
   "id": "bc3d3721",
   "metadata": {},
   "outputs": [],
   "source": [
    "SPOTIPY_CLIENT_ID, SPOTIPY_CLIENT_SECRET = get_dev_keys()"
   ]
  },
  {
   "cell_type": "code",
   "execution_count": null,
   "id": "e41ad2e0",
   "metadata": {},
   "outputs": [],
   "source": [
    "client_credentials_manager = SpotifyClientCredentials(client_id=SPOTIPY_CLIENT_ID, client_secret=SPOTIPY_CLIENT_SECRET)\n",
    "sp = spotipy.Spotify(client_credentials_manager=client_credentials_manager)"
   ]
  },
  {
   "cell_type": "markdown",
   "id": "574c154d",
   "metadata": {},
   "source": [
    "## Get Artists For Each Song"
   ]
  },
  {
   "cell_type": "code",
   "execution_count": null,
   "id": "26e40be2",
   "metadata": {},
   "outputs": [],
   "source": [
    "def get_song_artists_through_api(artist, track):\n",
    "    search_query = artist + ' ' + track\n",
    "    song_details = sp.search(search_query, limit=1)\n",
    "    song_artists = song_details['tracks']['items'][0]['artists']\n",
    "    return song_artists"
   ]
  },
  {
   "cell_type": "code",
   "execution_count": null,
   "id": "db766852",
   "metadata": {},
   "outputs": [],
   "source": [
    "all_songs_with_artists = []\n",
    "\n",
    "for index, row in all_songs.iterrows():\n",
    "    try:\n",
    "        # Get song artists\n",
    "        song_artists = get_song_artists_through_api(row.artistName, row.trackName)\n",
    "\n",
    "        # Store artists for song\n",
    "        uris = [artist['uri'] for artist in song_artists]\n",
    "        for uri in uris:\n",
    "            all_songs_with_artists.append([row.artistName, row.trackName, uri])\n",
    "    except:\n",
    "        if ' - ' in row.trackName:\n",
    "            try:\n",
    "                # Get song artists\n",
    "                song_artists = get_song_artists_through_api(row.artistName, ' - '.join(row.trackName.split(' - ')[:-1]))\n",
    "\n",
    "                # Store artists for song\n",
    "                uris = [artist['uri'] for artist in song_artists]\n",
    "                for uri in uris:\n",
    "                    all_songs_with_artists.append([row.artistName, row.trackName, uri])\n",
    "            except:\n",
    "                print(index, row.artistName, row.trackName)\n",
    "        else:\n",
    "            print(index, row.artistName, row.trackName)"
   ]
  },
  {
   "cell_type": "code",
   "execution_count": null,
   "id": "f36fd5d8",
   "metadata": {},
   "outputs": [],
   "source": [
    "all_songs_with_artists = pd.DataFrame(all_songs_with_artists, columns=['artistName', 'trackName', 'artistURI'])"
   ]
  },
  {
   "cell_type": "code",
   "execution_count": null,
   "id": "7e5cd720",
   "metadata": {},
   "outputs": [],
   "source": [
    "artist_uris = list(all_songs_with_artists.artistURI.unique())"
   ]
  },
  {
   "cell_type": "markdown",
   "id": "99d2dbe3",
   "metadata": {},
   "source": [
    "## Get Artist Details"
   ]
  },
  {
   "cell_type": "code",
   "execution_count": null,
   "id": "063b7d8a",
   "metadata": {},
   "outputs": [],
   "source": [
    "artist_search = {}\n",
    "for i in range(0, len(artist_uris), 50):\n",
    "    search_results = sp.artists(artist_uris[i:i + 50])\n",
    "    for result in search_results['artists']:\n",
    "        artist_search[result['uri']] = result"
   ]
  },
  {
   "cell_type": "markdown",
   "id": "dc1ae42d",
   "metadata": {},
   "source": [
    "# Statistics With API"
   ]
  },
  {
   "cell_type": "markdown",
   "id": "bad72336",
   "metadata": {},
   "source": [
    "## Which Artists Have You Listened To The Most?"
   ]
  },
  {
   "cell_type": "code",
   "execution_count": null,
   "id": "25658bee",
   "metadata": {},
   "outputs": [],
   "source": [
    "def check_uri_for_song(uri, trackName, artistName):\n",
    "    song_filter = (all_songs_with_artists.artistName==artistName) & (all_songs_with_artists.trackName==trackName)\n",
    "    return uri in all_songs_with_artists[song_filter].artistURI.unique()"
   ]
  },
  {
   "cell_type": "code",
   "execution_count": null,
   "id": "38f92887",
   "metadata": {},
   "outputs": [],
   "source": [
    "# Get play time for each artist\n",
    "#df_artists = data.copy()\n",
    "#artist_play_times = []\n",
    "#for uri in list(artist_search.keys()):\n",
    "#    df_artists[uri] = df_artists.apply(lambda x: check_uri_for_song(uri, x.trackName, x.artistName), axis=1)\n",
    "#    artist_play_time = df_artists[df_artists[uri]].msPlayed.sum()\n",
    "#    artist_play_times.append((uri, artist_play_time))\n",
    "\n",
    "# Sort play times\n",
    "#artist_play_times.sort(key=lambda x: -x[1])\n",
    "\n",
    "# Get top 5 artists\n",
    "#top_artists = pd.DataFrame(artist_play_times, columns=['URI', 'Minutes'])\n",
    "#top_artists['Name'] = top_artists.URI.apply(lambda x: artist_search[x]['name'])\n",
    "#top_artists\n",
    "\n",
    "#for artist in top_artists:\n",
    "#    print(artist_search[artist[0]]['name'], artist[1])"
   ]
  },
  {
   "cell_type": "code",
   "execution_count": null,
   "id": "6e971751",
   "metadata": {},
   "outputs": [],
   "source": [
    "# Get play time for each artist\n",
    "df_artists = data[['trackName', 'artistName', 'msPlayed']]\n",
    "artist_play_times = []\n",
    "for uri in list(artist_search.keys()):\n",
    "    artist_play_time = df_artists[df_artists.apply(lambda x: check_uri_for_song(uri, x.trackName, x.artistName), axis=1)].msPlayed.sum()\n",
    "    artist_play_times.append((uri, artist_play_time))\n",
    "\n",
    "# Get top 5 artists\n",
    "top_artists = pd.DataFrame(artist_play_times, columns=['URI', 'Ms'])\n",
    "top_artists['Name'] = top_artists.URI.apply(lambda x: artist_search[x]['name'])\n",
    "top_artists['Minutes'] = top_artists.Ms / 60000\n",
    "top_artists"
   ]
  },
  {
   "cell_type": "code",
   "execution_count": null,
   "id": "7b2e3e69",
   "metadata": {},
   "outputs": [],
   "source": [
    "top_artists[['Name', 'Minutes']].sort_values('Minutes', ascending=False).head(20)"
   ]
  },
  {
   "cell_type": "markdown",
   "id": "06464af6",
   "metadata": {},
   "source": [
    "## Which Genres Have You Listened To The Most?"
   ]
  },
  {
   "cell_type": "code",
   "execution_count": null,
   "id": "61d58078",
   "metadata": {},
   "outputs": [],
   "source": [
    "genres = []\n",
    "for artist in artist_search:\n",
    "    genres.extend(artist_search[artist]['genres'])\n",
    "genres = list(set(genres))"
   ]
  },
  {
   "cell_type": "code",
   "execution_count": null,
   "id": "f69446b8",
   "metadata": {},
   "outputs": [],
   "source": [
    "# Set up genre time dict\n",
    "genre_times = {}\n",
    "for genre in genres:\n",
    "    genre_times[genre] = 0\n",
    "\n",
    "for index, row in data.iterrows():\n",
    "    # Get main artist\n",
    "    song_data = all_songs_with_artists[(all_songs_with_artists.trackName==row.trackName) & (all_songs_with_artists.artistName==row.artistName)]\n",
    "    song_data = song_data.copy().reset_index()\n",
    "    try:\n",
    "        main_artist = song_data.iloc[0].artistURI\n",
    "    except:\n",
    "        main_artist = None\n",
    "    \n",
    "    # Add genres of main artist to counter\n",
    "    if main_artist != None:\n",
    "        artist_genres = artist_search[main_artist]['genres']\n",
    "        for genre in artist_genres:\n",
    "            genre_times[genre] += row.msPlayed"
   ]
  },
  {
   "cell_type": "code",
   "execution_count": null,
   "id": "2361a579",
   "metadata": {},
   "outputs": [],
   "source": [
    "df_genre = pd.DataFrame(list(genre_times.items()), columns=['Genre', 'Ms'])\n",
    "df_genre['Minutes'] = df_genre.Ms / 60000\n",
    "df_genre[['Genre', 'Minutes']].sort_values('Minutes', ascending=False).head(20)"
   ]
  },
  {
   "cell_type": "code",
   "execution_count": null,
   "id": "ca5780d8",
   "metadata": {},
   "outputs": [],
   "source": [
    "sorted(list(genre_times.items()), key=lambda x: -x[1])[:20]"
   ]
  }
 ],
 "metadata": {
  "kernelspec": {
   "display_name": "Python 3 (ipykernel)",
   "language": "python",
   "name": "python3"
  },
  "language_info": {
   "codemirror_mode": {
    "name": "ipython",
    "version": 3
   },
   "file_extension": ".py",
   "mimetype": "text/x-python",
   "name": "python",
   "nbconvert_exporter": "python",
   "pygments_lexer": "ipython3",
   "version": "3.7.6"
  }
 },
 "nbformat": 4,
 "nbformat_minor": 5
}
